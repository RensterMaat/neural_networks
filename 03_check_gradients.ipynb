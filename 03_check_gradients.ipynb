{
 "cells": [
  {
   "cell_type": "code",
   "execution_count": 142,
   "metadata": {},
   "outputs": [
    {
     "name": "stdout",
     "output_type": "stream",
     "text": [
      "[1.45832498]\n"
     ]
    },
    {
     "data": {
      "text/plain": [
       "0.5118446825290711"
      ]
     },
     "execution_count": 142,
     "metadata": {},
     "output_type": "execute_result"
    }
   ],
   "source": [
    "from src import *\n",
    "import numpy as np\n",
    "\n",
    "x = Tensor(np.random.randn(5,1), requires_grad=False)\n",
    "y = Tensor(np.random.randn(2,1), requires_grad=False)\n",
    "\n",
    "m1 = Tensor(np.random.randn(4,5))\n",
    "m2 = Tensor(np.random.rand(6,4))\n",
    "m3 = Tensor(np.random.rand(2,6))\n",
    "\n",
    "def eval():\n",
    "    out = m1 @ x\n",
    "\n",
    "    # out = out * (out > Tensor(0))\n",
    "    # out = m2 @ out\n",
    "    # out = out * (out > Tensor(0))\n",
    "    # out = m3 @ out\n",
    "\n",
    "    # z = out - Tensor(out.value.max(), requires_grad=False)\n",
    "    # exps = Tensor(np.e, requires_grad=False) ** z\n",
    "\n",
    "    out = out * Sum(out)\n",
    "    out = Sum(out)\n",
    "    # out = out - y\n",
    "    # out = out ** Tensor(2, requires_grad=False)\n",
    "\n",
    "    return out\n",
    "\n",
    "out = eval()\n",
    "\n",
    "before = out.value\n",
    "out.backwards(np.ones(out.value.shape))\n",
    "\n",
    "delta = 0.0000001\n",
    "nudge = np.zeros(m1.value.shape)\n",
    "nudge[1,1] = delta\n",
    "\n",
    "m1.value = m1.value + nudge\n",
    "\n",
    "out = eval()\n",
    "after = out.value\n",
    "\n",
    "print((after - before) / delta)\n",
    "\n",
    "\n",
    "m1.grad[1,1]\n"
   ]
  },
  {
   "cell_type": "code",
   "execution_count": 173,
   "metadata": {},
   "outputs": [
    {
     "name": "stdout",
     "output_type": "stream",
     "text": [
      "1.0000000028043132\n"
     ]
    },
    {
     "data": {
      "text/plain": [
       "1.0"
      ]
     },
     "execution_count": 173,
     "metadata": {},
     "output_type": "execute_result"
    }
   ],
   "source": [
    "x = Tensor(np.random.rand(5))\n",
    "\n",
    "out = (Tensor(4, requires_grad=False) ** x) * Sum((Tensor(4, requires_grad=False) ** x))\n",
    "out = Sum(x)\n",
    "\n",
    "before = out.value\n",
    "out.backwards(np.ones(out.value.shape))\n",
    "\n",
    "delta = 0.0000001\n",
    "nudge = np.zeros(x.value.shape)\n",
    "nudge[1] = delta\n",
    "\n",
    "x.value = x.value + nudge\n",
    "\n",
    "out = x * Sum(x)\n",
    "out = Sum(x)\n",
    "\n",
    "after = out.value\n",
    "\n",
    "print((after - before) / delta)\n",
    "\n",
    "x.grad[1]\n",
    "\n"
   ]
  },
  {
   "cell_type": "code",
   "execution_count": 158,
   "metadata": {},
   "outputs": [
    {
     "data": {
      "text/plain": [
       "array([6.74062897e-01, 1.00000000e-07, 7.26231735e-01, 9.59506107e-01,\n",
       "       1.12645767e-01])"
      ]
     },
     "execution_count": 158,
     "metadata": {},
     "output_type": "execute_result"
    }
   ],
   "source": [
    "x.value"
   ]
  },
  {
   "cell_type": "code",
   "execution_count": 159,
   "metadata": {},
   "outputs": [
    {
     "data": {
      "text/plain": [
       "3.120343127307415"
      ]
     },
     "execution_count": 159,
     "metadata": {},
     "output_type": "execute_result"
    }
   ],
   "source": [
    "before"
   ]
  },
  {
   "cell_type": "code",
   "execution_count": 160,
   "metadata": {},
   "outputs": [
    {
     "data": {
      "text/plain": [
       "2.472446606146026"
      ]
     },
     "execution_count": 160,
     "metadata": {},
     "output_type": "execute_result"
    }
   ],
   "source": [
    "after"
   ]
  },
  {
   "cell_type": "code",
   "execution_count": null,
   "metadata": {},
   "outputs": [],
   "source": []
  }
 ],
 "metadata": {
  "kernelspec": {
   "display_name": "Python 3.10.5 ('conda')",
   "language": "python",
   "name": "python3"
  },
  "language_info": {
   "codemirror_mode": {
    "name": "ipython",
    "version": 3
   },
   "file_extension": ".py",
   "mimetype": "text/x-python",
   "name": "python",
   "nbconvert_exporter": "python",
   "pygments_lexer": "ipython3",
   "version": "3.10.5"
  },
  "orig_nbformat": 4,
  "vscode": {
   "interpreter": {
    "hash": "febf68473bab6d033111f0bbfcdb01a5e43af7a2aa8031c222717ba26a5a8e95"
   }
  }
 },
 "nbformat": 4,
 "nbformat_minor": 2
}
